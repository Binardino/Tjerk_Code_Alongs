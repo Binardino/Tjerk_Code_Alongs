{
 "cells": [
  {
   "cell_type": "code",
   "execution_count": 104,
   "metadata": {},
   "outputs": [],
   "source": [
    "import pandas as pd\n",
    "import matplotlib.pyplot as plt\n",
    "df = pd.read_csv('data_property_tax_report_2018.csv')\n",
    "original = df.copy()"
   ]
  },
  {
   "cell_type": "code",
   "execution_count": 5,
   "metadata": {},
   "outputs": [
    {
     "data": {
      "text/plain": [
       "(205346, 28)"
      ]
     },
     "execution_count": 5,
     "metadata": {},
     "output_type": "execute_result"
    }
   ],
   "source": [
    "df.shape"
   ]
  },
  {
   "cell_type": "code",
   "execution_count": 6,
   "metadata": {},
   "outputs": [
    {
     "data": {
      "text/plain": [
       "Index(['PID', 'LEGAL_TYPE', 'FOLIO', 'LAND_COORDINATE', 'ZONE_NAME',\n",
       "       'ZONE_CATEGORY', 'LOT', 'BLOCK', 'PLAN', 'DISTRICT_LOT',\n",
       "       'FROM_CIVIC_NUMBER', 'TO_CIVIC_NUMBER', 'STREET_NAME',\n",
       "       'PROPERTY_POSTAL_CODE', 'NARRATIVE_LEGAL_LINE1',\n",
       "       'NARRATIVE_LEGAL_LINE2', 'NARRATIVE_LEGAL_LINE3',\n",
       "       'NARRATIVE_LEGAL_LINE4', 'NARRATIVE_LEGAL_LINE5', 'CURRENT_LAND_VALUE',\n",
       "       'CURRENT_IMPROVEMENT_VALUE', 'TAX_ASSESSMENT_YEAR',\n",
       "       'PREVIOUS_LAND_VALUE', 'PREVIOUS_IMPROVEMENT_VALUE', 'YEAR_BUILT',\n",
       "       'BIG_IMPROVEMENT_YEAR', 'TAX_LEVY', 'NEIGHBOURHOOD_CODE'],\n",
       "      dtype='object')"
      ]
     },
     "execution_count": 6,
     "metadata": {},
     "output_type": "execute_result"
    }
   ],
   "source": [
    "df.columns"
   ]
  },
  {
   "cell_type": "code",
   "execution_count": 7,
   "metadata": {
    "scrolled": true
   },
   "outputs": [
    {
     "data": {
      "text/plain": [
       "PID                            object\n",
       "LEGAL_TYPE                     object\n",
       "FOLIO                         float64\n",
       "LAND_COORDINATE                 int64\n",
       "ZONE_NAME                      object\n",
       "ZONE_CATEGORY                  object\n",
       "LOT                            object\n",
       "BLOCK                          object\n",
       "PLAN                           object\n",
       "DISTRICT_LOT                   object\n",
       "FROM_CIVIC_NUMBER              object\n",
       "TO_CIVIC_NUMBER               float64\n",
       "STREET_NAME                    object\n",
       "PROPERTY_POSTAL_CODE           object\n",
       "NARRATIVE_LEGAL_LINE1          object\n",
       "NARRATIVE_LEGAL_LINE2          object\n",
       "NARRATIVE_LEGAL_LINE3          object\n",
       "NARRATIVE_LEGAL_LINE4          object\n",
       "NARRATIVE_LEGAL_LINE5          object\n",
       "CURRENT_LAND_VALUE              int64\n",
       "CURRENT_IMPROVEMENT_VALUE       int64\n",
       "TAX_ASSESSMENT_YEAR             int64\n",
       "PREVIOUS_LAND_VALUE           float64\n",
       "PREVIOUS_IMPROVEMENT_VALUE    float64\n",
       "YEAR_BUILT                    float64\n",
       "BIG_IMPROVEMENT_YEAR          float64\n",
       "TAX_LEVY                      float64\n",
       "NEIGHBOURHOOD_CODE              int64\n",
       "dtype: object"
      ]
     },
     "execution_count": 7,
     "metadata": {},
     "output_type": "execute_result"
    }
   ],
   "source": [
    "df.dtypes"
   ]
  },
  {
   "cell_type": "code",
   "execution_count": 8,
   "metadata": {},
   "outputs": [
    {
     "data": {
      "text/html": [
       "<div>\n",
       "<style scoped>\n",
       "    .dataframe tbody tr th:only-of-type {\n",
       "        vertical-align: middle;\n",
       "    }\n",
       "\n",
       "    .dataframe tbody tr th {\n",
       "        vertical-align: top;\n",
       "    }\n",
       "\n",
       "    .dataframe thead th {\n",
       "        text-align: right;\n",
       "    }\n",
       "</style>\n",
       "<table border=\"1\" class=\"dataframe\">\n",
       "  <thead>\n",
       "    <tr style=\"text-align: right;\">\n",
       "      <th></th>\n",
       "      <th>FOLIO</th>\n",
       "      <th>LAND_COORDINATE</th>\n",
       "      <th>TO_CIVIC_NUMBER</th>\n",
       "      <th>CURRENT_LAND_VALUE</th>\n",
       "      <th>CURRENT_IMPROVEMENT_VALUE</th>\n",
       "      <th>TAX_ASSESSMENT_YEAR</th>\n",
       "      <th>PREVIOUS_LAND_VALUE</th>\n",
       "      <th>PREVIOUS_IMPROVEMENT_VALUE</th>\n",
       "      <th>YEAR_BUILT</th>\n",
       "      <th>BIG_IMPROVEMENT_YEAR</th>\n",
       "      <th>TAX_LEVY</th>\n",
       "      <th>NEIGHBOURHOOD_CODE</th>\n",
       "    </tr>\n",
       "  </thead>\n",
       "  <tbody>\n",
       "    <tr>\n",
       "      <th>count</th>\n",
       "      <td>2.053460e+05</td>\n",
       "      <td>2.053460e+05</td>\n",
       "      <td>204731.000000</td>\n",
       "      <td>2.053460e+05</td>\n",
       "      <td>2.053460e+05</td>\n",
       "      <td>205346.0</td>\n",
       "      <td>2.030420e+05</td>\n",
       "      <td>2.030420e+05</td>\n",
       "      <td>194899.000000</td>\n",
       "      <td>194905.000000</td>\n",
       "      <td>0.0</td>\n",
       "      <td>205346.000000</td>\n",
       "    </tr>\n",
       "    <tr>\n",
       "      <th>mean</th>\n",
       "      <td>4.984322e+11</td>\n",
       "      <td>4.984322e+07</td>\n",
       "      <td>2355.494566</td>\n",
       "      <td>1.862369e+06</td>\n",
       "      <td>4.006923e+05</td>\n",
       "      <td>2018.0</td>\n",
       "      <td>1.695359e+06</td>\n",
       "      <td>3.875009e+05</td>\n",
       "      <td>1979.969641</td>\n",
       "      <td>1987.354090</td>\n",
       "      <td>NaN</td>\n",
       "      <td>16.524159</td>\n",
       "    </tr>\n",
       "    <tr>\n",
       "      <th>std</th>\n",
       "      <td>2.479372e+11</td>\n",
       "      <td>2.479372e+07</td>\n",
       "      <td>1947.760697</td>\n",
       "      <td>1.074259e+07</td>\n",
       "      <td>4.148662e+06</td>\n",
       "      <td>0.0</td>\n",
       "      <td>9.646130e+06</td>\n",
       "      <td>4.236152e+06</td>\n",
       "      <td>29.419729</td>\n",
       "      <td>19.839132</td>\n",
       "      <td>NaN</td>\n",
       "      <td>9.052394</td>\n",
       "    </tr>\n",
       "    <tr>\n",
       "      <th>min</th>\n",
       "      <td>1.963206e+10</td>\n",
       "      <td>1.963206e+06</td>\n",
       "      <td>1.000000</td>\n",
       "      <td>0.000000e+00</td>\n",
       "      <td>0.000000e+00</td>\n",
       "      <td>2018.0</td>\n",
       "      <td>0.000000e+00</td>\n",
       "      <td>0.000000e+00</td>\n",
       "      <td>1800.000000</td>\n",
       "      <td>200.000000</td>\n",
       "      <td>NaN</td>\n",
       "      <td>1.000000</td>\n",
       "    </tr>\n",
       "    <tr>\n",
       "      <th>25%</th>\n",
       "      <td>2.107920e+11</td>\n",
       "      <td>2.107919e+07</td>\n",
       "      <td>948.000000</td>\n",
       "      <td>4.680000e+05</td>\n",
       "      <td>9.530000e+04</td>\n",
       "      <td>2018.0</td>\n",
       "      <td>3.840000e+05</td>\n",
       "      <td>9.470000e+04</td>\n",
       "      <td>1965.000000</td>\n",
       "      <td>1975.000000</td>\n",
       "      <td>NaN</td>\n",
       "      <td>9.000000</td>\n",
       "    </tr>\n",
       "    <tr>\n",
       "      <th>50%</th>\n",
       "      <td>6.122360e+11</td>\n",
       "      <td>6.122363e+07</td>\n",
       "      <td>1777.000000</td>\n",
       "      <td>1.057000e+06</td>\n",
       "      <td>1.830000e+05</td>\n",
       "      <td>2018.0</td>\n",
       "      <td>9.440000e+05</td>\n",
       "      <td>1.810000e+05</td>\n",
       "      <td>1990.000000</td>\n",
       "      <td>1992.000000</td>\n",
       "      <td>NaN</td>\n",
       "      <td>16.000000</td>\n",
       "    </tr>\n",
       "    <tr>\n",
       "      <th>75%</th>\n",
       "      <td>6.882770e+11</td>\n",
       "      <td>6.882774e+07</td>\n",
       "      <td>3290.000000</td>\n",
       "      <td>1.692000e+06</td>\n",
       "      <td>2.950000e+05</td>\n",
       "      <td>2018.0</td>\n",
       "      <td>1.680000e+06</td>\n",
       "      <td>2.880000e+05</td>\n",
       "      <td>2002.000000</td>\n",
       "      <td>2002.000000</td>\n",
       "      <td>NaN</td>\n",
       "      <td>25.000000</td>\n",
       "    </tr>\n",
       "    <tr>\n",
       "      <th>max</th>\n",
       "      <td>8.453130e+11</td>\n",
       "      <td>8.453134e+07</td>\n",
       "      <td>9295.000000</td>\n",
       "      <td>3.516727e+09</td>\n",
       "      <td>6.117980e+08</td>\n",
       "      <td>2018.0</td>\n",
       "      <td>3.319471e+09</td>\n",
       "      <td>6.262320e+08</td>\n",
       "      <td>2015.000000</td>\n",
       "      <td>2015.000000</td>\n",
       "      <td>NaN</td>\n",
       "      <td>30.000000</td>\n",
       "    </tr>\n",
       "  </tbody>\n",
       "</table>\n",
       "</div>"
      ],
      "text/plain": [
       "              FOLIO  LAND_COORDINATE  TO_CIVIC_NUMBER  CURRENT_LAND_VALUE  \\\n",
       "count  2.053460e+05     2.053460e+05    204731.000000        2.053460e+05   \n",
       "mean   4.984322e+11     4.984322e+07      2355.494566        1.862369e+06   \n",
       "std    2.479372e+11     2.479372e+07      1947.760697        1.074259e+07   \n",
       "min    1.963206e+10     1.963206e+06         1.000000        0.000000e+00   \n",
       "25%    2.107920e+11     2.107919e+07       948.000000        4.680000e+05   \n",
       "50%    6.122360e+11     6.122363e+07      1777.000000        1.057000e+06   \n",
       "75%    6.882770e+11     6.882774e+07      3290.000000        1.692000e+06   \n",
       "max    8.453130e+11     8.453134e+07      9295.000000        3.516727e+09   \n",
       "\n",
       "       CURRENT_IMPROVEMENT_VALUE  TAX_ASSESSMENT_YEAR  PREVIOUS_LAND_VALUE  \\\n",
       "count               2.053460e+05             205346.0         2.030420e+05   \n",
       "mean                4.006923e+05               2018.0         1.695359e+06   \n",
       "std                 4.148662e+06                  0.0         9.646130e+06   \n",
       "min                 0.000000e+00               2018.0         0.000000e+00   \n",
       "25%                 9.530000e+04               2018.0         3.840000e+05   \n",
       "50%                 1.830000e+05               2018.0         9.440000e+05   \n",
       "75%                 2.950000e+05               2018.0         1.680000e+06   \n",
       "max                 6.117980e+08               2018.0         3.319471e+09   \n",
       "\n",
       "       PREVIOUS_IMPROVEMENT_VALUE     YEAR_BUILT  BIG_IMPROVEMENT_YEAR  \\\n",
       "count                2.030420e+05  194899.000000         194905.000000   \n",
       "mean                 3.875009e+05    1979.969641           1987.354090   \n",
       "std                  4.236152e+06      29.419729             19.839132   \n",
       "min                  0.000000e+00    1800.000000            200.000000   \n",
       "25%                  9.470000e+04    1965.000000           1975.000000   \n",
       "50%                  1.810000e+05    1990.000000           1992.000000   \n",
       "75%                  2.880000e+05    2002.000000           2002.000000   \n",
       "max                  6.262320e+08    2015.000000           2015.000000   \n",
       "\n",
       "       TAX_LEVY  NEIGHBOURHOOD_CODE  \n",
       "count       0.0       205346.000000  \n",
       "mean        NaN           16.524159  \n",
       "std         NaN            9.052394  \n",
       "min         NaN            1.000000  \n",
       "25%         NaN            9.000000  \n",
       "50%         NaN           16.000000  \n",
       "75%         NaN           25.000000  \n",
       "max         NaN           30.000000  "
      ]
     },
     "execution_count": 8,
     "metadata": {},
     "output_type": "execute_result"
    }
   ],
   "source": [
    "df.describe()"
   ]
  },
  {
   "cell_type": "code",
   "execution_count": 9,
   "metadata": {},
   "outputs": [
    {
     "data": {
      "text/plain": [
       "0         False\n",
       "1         False\n",
       "2         False\n",
       "3         False\n",
       "4         False\n",
       "          ...  \n",
       "205341     True\n",
       "205342     True\n",
       "205343    False\n",
       "205344    False\n",
       "205345    False\n",
       "Name: PROPERTY_POSTAL_CODE, Length: 205346, dtype: bool"
      ]
     },
     "execution_count": 9,
     "metadata": {},
     "output_type": "execute_result"
    }
   ],
   "source": [
    "df.PROPERTY_POSTAL_CODE.isnull()"
   ]
  },
  {
   "cell_type": "code",
   "execution_count": 10,
   "metadata": {},
   "outputs": [
    {
     "data": {
      "text/plain": [
       "3801"
      ]
     },
     "execution_count": 10,
     "metadata": {},
     "output_type": "execute_result"
    }
   ],
   "source": [
    "df.PROPERTY_POSTAL_CODE.isnull().sum()"
   ]
  },
  {
   "cell_type": "code",
   "execution_count": 11,
   "metadata": {},
   "outputs": [
    {
     "data": {
      "text/plain": [
       "0.018510221772033545"
      ]
     },
     "execution_count": 11,
     "metadata": {},
     "output_type": "execute_result"
    }
   ],
   "source": [
    "df.PROPERTY_POSTAL_CODE.isnull().sum() / len(df)"
   ]
  },
  {
   "cell_type": "code",
   "execution_count": 16,
   "metadata": {},
   "outputs": [
    {
     "data": {
      "text/html": [
       "<div>\n",
       "<style scoped>\n",
       "    .dataframe tbody tr th:only-of-type {\n",
       "        vertical-align: middle;\n",
       "    }\n",
       "\n",
       "    .dataframe tbody tr th {\n",
       "        vertical-align: top;\n",
       "    }\n",
       "\n",
       "    .dataframe thead th {\n",
       "        text-align: right;\n",
       "    }\n",
       "</style>\n",
       "<table border=\"1\" class=\"dataframe\">\n",
       "  <thead>\n",
       "    <tr style=\"text-align: right;\">\n",
       "      <th></th>\n",
       "      <th>PROPERTY_POSTAL_CODE</th>\n",
       "      <th>STREET_NAME</th>\n",
       "    </tr>\n",
       "  </thead>\n",
       "  <tbody>\n",
       "    <tr>\n",
       "      <th>29</th>\n",
       "      <td>NaN</td>\n",
       "      <td>VACANT</td>\n",
       "    </tr>\n",
       "    <tr>\n",
       "      <th>30</th>\n",
       "      <td>NaN</td>\n",
       "      <td>39TH AVE E</td>\n",
       "    </tr>\n",
       "    <tr>\n",
       "      <th>777</th>\n",
       "      <td>NaN</td>\n",
       "      <td>NaN</td>\n",
       "    </tr>\n",
       "    <tr>\n",
       "      <th>1086</th>\n",
       "      <td>NaN</td>\n",
       "      <td>FRASER ST</td>\n",
       "    </tr>\n",
       "    <tr>\n",
       "      <th>1414</th>\n",
       "      <td>NaN</td>\n",
       "      <td>SKEENA ST</td>\n",
       "    </tr>\n",
       "    <tr>\n",
       "      <th>...</th>\n",
       "      <td>...</td>\n",
       "      <td>...</td>\n",
       "    </tr>\n",
       "    <tr>\n",
       "      <th>205327</th>\n",
       "      <td>NaN</td>\n",
       "      <td>PIERVIEW CRES</td>\n",
       "    </tr>\n",
       "    <tr>\n",
       "      <th>205333</th>\n",
       "      <td>NaN</td>\n",
       "      <td>KING EDWARD AVE E</td>\n",
       "    </tr>\n",
       "    <tr>\n",
       "      <th>205336</th>\n",
       "      <td>NaN</td>\n",
       "      <td>FIR ST</td>\n",
       "    </tr>\n",
       "    <tr>\n",
       "      <th>205341</th>\n",
       "      <td>NaN</td>\n",
       "      <td>QUEBEC ST</td>\n",
       "    </tr>\n",
       "    <tr>\n",
       "      <th>205342</th>\n",
       "      <td>NaN</td>\n",
       "      <td>DAVIE ST</td>\n",
       "    </tr>\n",
       "  </tbody>\n",
       "</table>\n",
       "<p>3801 rows × 2 columns</p>\n",
       "</div>"
      ],
      "text/plain": [
       "       PROPERTY_POSTAL_CODE        STREET_NAME\n",
       "29                      NaN             VACANT\n",
       "30                      NaN         39TH AVE E\n",
       "777                     NaN                NaN\n",
       "1086                    NaN          FRASER ST\n",
       "1414                    NaN          SKEENA ST\n",
       "...                     ...                ...\n",
       "205327                  NaN      PIERVIEW CRES\n",
       "205333                  NaN  KING EDWARD AVE E\n",
       "205336                  NaN             FIR ST\n",
       "205341                  NaN          QUEBEC ST\n",
       "205342                  NaN           DAVIE ST\n",
       "\n",
       "[3801 rows x 2 columns]"
      ]
     },
     "execution_count": 16,
     "metadata": {},
     "output_type": "execute_result"
    }
   ],
   "source": [
    "df[ df.PROPERTY_POSTAL_CODE.isnull() ]\\\n",
    "[['PROPERTY_POSTAL_CODE','STREET_NAME']]"
   ]
  },
  {
   "cell_type": "code",
   "execution_count": 17,
   "metadata": {},
   "outputs": [
    {
     "data": {
      "text/plain": [
       "0          True\n",
       "1          True\n",
       "2          True\n",
       "3          True\n",
       "4          True\n",
       "          ...  \n",
       "205341    False\n",
       "205342    False\n",
       "205343     True\n",
       "205344     True\n",
       "205345     True\n",
       "Name: PROPERTY_POSTAL_CODE, Length: 205346, dtype: bool"
      ]
     },
     "execution_count": 17,
     "metadata": {},
     "output_type": "execute_result"
    }
   ],
   "source": [
    "df.PROPERTY_POSTAL_CODE.notnull()"
   ]
  },
  {
   "cell_type": "code",
   "execution_count": 18,
   "metadata": {},
   "outputs": [],
   "source": [
    "# data cleaning\n",
    "df = df[ df.PROPERTY_POSTAL_CODE.notnull() ]"
   ]
  },
  {
   "cell_type": "code",
   "execution_count": 19,
   "metadata": {},
   "outputs": [
    {
     "data": {
      "text/html": [
       "<div>\n",
       "<style scoped>\n",
       "    .dataframe tbody tr th:only-of-type {\n",
       "        vertical-align: middle;\n",
       "    }\n",
       "\n",
       "    .dataframe tbody tr th {\n",
       "        vertical-align: top;\n",
       "    }\n",
       "\n",
       "    .dataframe thead th {\n",
       "        text-align: right;\n",
       "    }\n",
       "</style>\n",
       "<table border=\"1\" class=\"dataframe\">\n",
       "  <thead>\n",
       "    <tr style=\"text-align: right;\">\n",
       "      <th></th>\n",
       "      <th>PID</th>\n",
       "      <th>LEGAL_TYPE</th>\n",
       "      <th>FOLIO</th>\n",
       "      <th>LAND_COORDINATE</th>\n",
       "      <th>ZONE_NAME</th>\n",
       "      <th>ZONE_CATEGORY</th>\n",
       "      <th>LOT</th>\n",
       "      <th>BLOCK</th>\n",
       "      <th>PLAN</th>\n",
       "      <th>DISTRICT_LOT</th>\n",
       "      <th>...</th>\n",
       "      <th>NARRATIVE_LEGAL_LINE5</th>\n",
       "      <th>CURRENT_LAND_VALUE</th>\n",
       "      <th>CURRENT_IMPROVEMENT_VALUE</th>\n",
       "      <th>TAX_ASSESSMENT_YEAR</th>\n",
       "      <th>PREVIOUS_LAND_VALUE</th>\n",
       "      <th>PREVIOUS_IMPROVEMENT_VALUE</th>\n",
       "      <th>YEAR_BUILT</th>\n",
       "      <th>BIG_IMPROVEMENT_YEAR</th>\n",
       "      <th>TAX_LEVY</th>\n",
       "      <th>NEIGHBOURHOOD_CODE</th>\n",
       "    </tr>\n",
       "  </thead>\n",
       "  <tbody>\n",
       "    <tr>\n",
       "      <th>0</th>\n",
       "      <td>025-734-601</td>\n",
       "      <td>STRATA</td>\n",
       "      <td>7.500400e+11</td>\n",
       "      <td>75004024</td>\n",
       "      <td>C-2</td>\n",
       "      <td>Commercial</td>\n",
       "      <td>25</td>\n",
       "      <td>NaN</td>\n",
       "      <td>BCS498</td>\n",
       "      <td>2027</td>\n",
       "      <td>...</td>\n",
       "      <td>NaN</td>\n",
       "      <td>592000</td>\n",
       "      <td>242000</td>\n",
       "      <td>2018</td>\n",
       "      <td>472000.0</td>\n",
       "      <td>238000.0</td>\n",
       "      <td>2003.0</td>\n",
       "      <td>2003.0</td>\n",
       "      <td>NaN</td>\n",
       "      <td>3</td>\n",
       "    </tr>\n",
       "    <tr>\n",
       "      <th>1</th>\n",
       "      <td>029-700-868</td>\n",
       "      <td>STRATA</td>\n",
       "      <td>6.381830e+11</td>\n",
       "      <td>63818250</td>\n",
       "      <td>CD-1 (464)</td>\n",
       "      <td>Comprehensive Development</td>\n",
       "      <td>132</td>\n",
       "      <td>NaN</td>\n",
       "      <td>EPS2983</td>\n",
       "      <td>200A</td>\n",
       "      <td>...</td>\n",
       "      <td>T OF THE STRATA LOT AS SHOWN ON FOR</td>\n",
       "      <td>715000</td>\n",
       "      <td>327000</td>\n",
       "      <td>2018</td>\n",
       "      <td>603000.0</td>\n",
       "      <td>329000.0</td>\n",
       "      <td>NaN</td>\n",
       "      <td>NaN</td>\n",
       "      <td>NaN</td>\n",
       "      <td>13</td>\n",
       "    </tr>\n",
       "    <tr>\n",
       "      <th>2</th>\n",
       "      <td>029-814-227</td>\n",
       "      <td>STRATA</td>\n",
       "      <td>1.708260e+11</td>\n",
       "      <td>17082596</td>\n",
       "      <td>CD-1 (535)</td>\n",
       "      <td>Comprehensive Development</td>\n",
       "      <td>25</td>\n",
       "      <td>NaN</td>\n",
       "      <td>EPS3173</td>\n",
       "      <td>311</td>\n",
       "      <td>...</td>\n",
       "      <td>TITLEMENT OF THE STRATA LOT AS SHOW</td>\n",
       "      <td>507000</td>\n",
       "      <td>273000</td>\n",
       "      <td>2018</td>\n",
       "      <td>416000.0</td>\n",
       "      <td>273000.0</td>\n",
       "      <td>NaN</td>\n",
       "      <td>NaN</td>\n",
       "      <td>NaN</td>\n",
       "      <td>12</td>\n",
       "    </tr>\n",
       "    <tr>\n",
       "      <th>3</th>\n",
       "      <td>029-918-731</td>\n",
       "      <td>STRATA</td>\n",
       "      <td>6.401940e+11</td>\n",
       "      <td>64019406</td>\n",
       "      <td>IC-3</td>\n",
       "      <td>Light Industrial</td>\n",
       "      <td>40</td>\n",
       "      <td>26</td>\n",
       "      <td>EPS2425</td>\n",
       "      <td>200A</td>\n",
       "      <td>...</td>\n",
       "      <td>NTITLEMENT OF THE STRATA LOT AS SHO</td>\n",
       "      <td>227000</td>\n",
       "      <td>170000</td>\n",
       "      <td>2018</td>\n",
       "      <td>168000.0</td>\n",
       "      <td>170000.0</td>\n",
       "      <td>NaN</td>\n",
       "      <td>NaN</td>\n",
       "      <td>NaN</td>\n",
       "      <td>13</td>\n",
       "    </tr>\n",
       "    <tr>\n",
       "      <th>4</th>\n",
       "      <td>017-393-400</td>\n",
       "      <td>STRATA</td>\n",
       "      <td>6.011150e+11</td>\n",
       "      <td>60111496</td>\n",
       "      <td>CD-1 (233)</td>\n",
       "      <td>Comprehensive Development</td>\n",
       "      <td>7</td>\n",
       "      <td>NaN</td>\n",
       "      <td>LMS75</td>\n",
       "      <td>185</td>\n",
       "      <td>...</td>\n",
       "      <td>NaN</td>\n",
       "      <td>801000</td>\n",
       "      <td>380000</td>\n",
       "      <td>2018</td>\n",
       "      <td>531000.0</td>\n",
       "      <td>385000.0</td>\n",
       "      <td>1991.0</td>\n",
       "      <td>1991.0</td>\n",
       "      <td>NaN</td>\n",
       "      <td>27</td>\n",
       "    </tr>\n",
       "  </tbody>\n",
       "</table>\n",
       "<p>5 rows × 28 columns</p>\n",
       "</div>"
      ],
      "text/plain": [
       "           PID LEGAL_TYPE         FOLIO  LAND_COORDINATE   ZONE_NAME  \\\n",
       "0  025-734-601     STRATA  7.500400e+11         75004024         C-2   \n",
       "1  029-700-868     STRATA  6.381830e+11         63818250  CD-1 (464)   \n",
       "2  029-814-227     STRATA  1.708260e+11         17082596  CD-1 (535)   \n",
       "3  029-918-731     STRATA  6.401940e+11         64019406        IC-3   \n",
       "4  017-393-400     STRATA  6.011150e+11         60111496  CD-1 (233)   \n",
       "\n",
       "               ZONE_CATEGORY  LOT BLOCK     PLAN DISTRICT_LOT  ...  \\\n",
       "0                 Commercial   25   NaN   BCS498         2027  ...   \n",
       "1  Comprehensive Development  132   NaN  EPS2983         200A  ...   \n",
       "2  Comprehensive Development   25   NaN  EPS3173          311  ...   \n",
       "3           Light Industrial   40    26  EPS2425         200A  ...   \n",
       "4  Comprehensive Development    7   NaN    LMS75          185  ...   \n",
       "\n",
       "                 NARRATIVE_LEGAL_LINE5  CURRENT_LAND_VALUE  \\\n",
       "0                                  NaN              592000   \n",
       "1  T OF THE STRATA LOT AS SHOWN ON FOR              715000   \n",
       "2  TITLEMENT OF THE STRATA LOT AS SHOW              507000   \n",
       "3  NTITLEMENT OF THE STRATA LOT AS SHO              227000   \n",
       "4                                  NaN              801000   \n",
       "\n",
       "  CURRENT_IMPROVEMENT_VALUE TAX_ASSESSMENT_YEAR PREVIOUS_LAND_VALUE  \\\n",
       "0                    242000                2018            472000.0   \n",
       "1                    327000                2018            603000.0   \n",
       "2                    273000                2018            416000.0   \n",
       "3                    170000                2018            168000.0   \n",
       "4                    380000                2018            531000.0   \n",
       "\n",
       "  PREVIOUS_IMPROVEMENT_VALUE YEAR_BUILT BIG_IMPROVEMENT_YEAR TAX_LEVY  \\\n",
       "0                   238000.0     2003.0               2003.0      NaN   \n",
       "1                   329000.0        NaN                  NaN      NaN   \n",
       "2                   273000.0        NaN                  NaN      NaN   \n",
       "3                   170000.0        NaN                  NaN      NaN   \n",
       "4                   385000.0     1991.0               1991.0      NaN   \n",
       "\n",
       "   NEIGHBOURHOOD_CODE  \n",
       "0                   3  \n",
       "1                  13  \n",
       "2                  12  \n",
       "3                  13  \n",
       "4                  27  \n",
       "\n",
       "[5 rows x 28 columns]"
      ]
     },
     "execution_count": 19,
     "metadata": {},
     "output_type": "execute_result"
    }
   ],
   "source": [
    "df.head()"
   ]
  },
  {
   "cell_type": "code",
   "execution_count": 20,
   "metadata": {},
   "outputs": [
    {
     "data": {
      "text/plain": [
       "0    V6N 3E6\n",
       "1    V5Y 0K3\n",
       "2    V5X 0E2\n",
       "3    V5T 0E8\n",
       "4    V6G 3C9\n",
       "Name: PROPERTY_POSTAL_CODE, dtype: object"
      ]
     },
     "execution_count": 20,
     "metadata": {},
     "output_type": "execute_result"
    }
   ],
   "source": [
    "df.PROPERTY_POSTAL_CODE.head()"
   ]
  },
  {
   "cell_type": "code",
   "execution_count": 21,
   "metadata": {},
   "outputs": [
    {
     "data": {
      "text/plain": [
       "205339    V5L 3J7\n",
       "205340    V5T 0A1\n",
       "205343    V6Z 2A3\n",
       "205344    V5T 4S2\n",
       "205345    V5W 1Y1\n",
       "Name: PROPERTY_POSTAL_CODE, dtype: object"
      ]
     },
     "execution_count": 21,
     "metadata": {},
     "output_type": "execute_result"
    }
   ],
   "source": [
    "df.PROPERTY_POSTAL_CODE.tail()"
   ]
  },
  {
   "cell_type": "code",
   "execution_count": 22,
   "metadata": {},
   "outputs": [
    {
     "data": {
      "text/plain": [
       "0"
      ]
     },
     "execution_count": 22,
     "metadata": {},
     "output_type": "execute_result"
    }
   ],
   "source": [
    "df.PROPERTY_POSTAL_CODE.isnull().sum()"
   ]
  },
  {
   "cell_type": "code",
   "execution_count": 23,
   "metadata": {},
   "outputs": [
    {
     "data": {
      "text/plain": [
       "(201545, 28)"
      ]
     },
     "execution_count": 23,
     "metadata": {},
     "output_type": "execute_result"
    }
   ],
   "source": [
    "df.shape"
   ]
  },
  {
   "cell_type": "code",
   "execution_count": 27,
   "metadata": {},
   "outputs": [
    {
     "data": {
      "text/plain": [
       "count    193975.000000\n",
       "mean       1979.965269\n",
       "std          29.444047\n",
       "min        1800.000000\n",
       "25%        1965.000000\n",
       "50%        1990.000000\n",
       "75%        2002.000000\n",
       "max        2015.000000\n",
       "Name: YEAR_BUILT, dtype: float64"
      ]
     },
     "execution_count": 27,
     "metadata": {},
     "output_type": "execute_result"
    }
   ],
   "source": [
    "df.YEAR_BUILT.describe()"
   ]
  },
  {
   "cell_type": "code",
   "execution_count": 29,
   "metadata": {},
   "outputs": [
    {
     "data": {
      "text/plain": [
       "7570"
      ]
     },
     "execution_count": 29,
     "metadata": {},
     "output_type": "execute_result"
    }
   ],
   "source": [
    "df.YEAR_BUILT.isnull().sum()"
   ]
  },
  {
   "cell_type": "code",
   "execution_count": 30,
   "metadata": {},
   "outputs": [],
   "source": [
    "df = df[ df.YEAR_BUILT.notnull() ]"
   ]
  },
  {
   "cell_type": "code",
   "execution_count": 31,
   "metadata": {},
   "outputs": [
    {
     "data": {
      "text/plain": [
       "(193975, 28)"
      ]
     },
     "execution_count": 31,
     "metadata": {},
     "output_type": "execute_result"
    }
   ],
   "source": [
    "df.shape"
   ]
  },
  {
   "cell_type": "code",
   "execution_count": 32,
   "metadata": {},
   "outputs": [
    {
     "data": {
      "text/plain": [
       "Index(['PID', 'LEGAL_TYPE', 'FOLIO', 'LAND_COORDINATE', 'ZONE_NAME',\n",
       "       'ZONE_CATEGORY', 'LOT', 'BLOCK', 'PLAN', 'DISTRICT_LOT',\n",
       "       'FROM_CIVIC_NUMBER', 'TO_CIVIC_NUMBER', 'STREET_NAME',\n",
       "       'PROPERTY_POSTAL_CODE', 'NARRATIVE_LEGAL_LINE1',\n",
       "       'NARRATIVE_LEGAL_LINE2', 'NARRATIVE_LEGAL_LINE3',\n",
       "       'NARRATIVE_LEGAL_LINE4', 'NARRATIVE_LEGAL_LINE5', 'CURRENT_LAND_VALUE',\n",
       "       'CURRENT_IMPROVEMENT_VALUE', 'TAX_ASSESSMENT_YEAR',\n",
       "       'PREVIOUS_LAND_VALUE', 'PREVIOUS_IMPROVEMENT_VALUE', 'YEAR_BUILT',\n",
       "       'BIG_IMPROVEMENT_YEAR', 'TAX_LEVY', 'NEIGHBOURHOOD_CODE'],\n",
       "      dtype='object')"
      ]
     },
     "execution_count": 32,
     "metadata": {},
     "output_type": "execute_result"
    }
   ],
   "source": [
    "df.columns"
   ]
  },
  {
   "cell_type": "code",
   "execution_count": 34,
   "metadata": {},
   "outputs": [
    {
     "data": {
      "text/plain": [
       "0    025-734-601\n",
       "4    017-393-400\n",
       "5    028-445-864\n",
       "6    003-034-496\n",
       "7    016-160-070\n",
       "Name: PID, dtype: object"
      ]
     },
     "execution_count": 34,
     "metadata": {},
     "output_type": "execute_result"
    }
   ],
   "source": [
    "df.PID.head()"
   ]
  },
  {
   "cell_type": "code",
   "execution_count": 40,
   "metadata": {},
   "outputs": [],
   "source": [
    "df = df[['PID', 'YEAR_BUILT']].groupby('YEAR_BUILT', as_index=False).count()"
   ]
  },
  {
   "cell_type": "code",
   "execution_count": 42,
   "metadata": {},
   "outputs": [
    {
     "data": {
      "text/plain": [
       "Index(['YEAR_BUILT', 'PID'], dtype='object')"
      ]
     },
     "execution_count": 42,
     "metadata": {},
     "output_type": "execute_result"
    }
   ],
   "source": [
    "#df.columns = ['PID', 'NO_OF_PROPS']"
   ]
  },
  {
   "cell_type": "code",
   "execution_count": 53,
   "metadata": {},
   "outputs": [],
   "source": [
    "df = df.rename(columns={'PID':'NO_OF_PROPS'})"
   ]
  },
  {
   "cell_type": "code",
   "execution_count": 54,
   "metadata": {},
   "outputs": [],
   "source": [
    "filter_but_actually_the_whole_dataset_robin = df[(df['YEAR_BUILT'] > 1900) & (df['YEAR_BUILT'] <= 2000)]\n",
    "df = filter_but_actually_the_whole_dataset_robin"
   ]
  },
  {
   "cell_type": "code",
   "execution_count": 55,
   "metadata": {},
   "outputs": [
    {
     "data": {
      "text/plain": [
       "count     100.000000\n",
       "mean     1950.500000\n",
       "std        29.011492\n",
       "min      1901.000000\n",
       "25%      1925.750000\n",
       "50%      1950.500000\n",
       "75%      1975.250000\n",
       "max      2000.000000\n",
       "Name: YEAR_BUILT, dtype: float64"
      ]
     },
     "execution_count": 55,
     "metadata": {},
     "output_type": "execute_result"
    }
   ],
   "source": [
    "df.YEAR_BUILT.describe()"
   ]
  },
  {
   "cell_type": "code",
   "execution_count": null,
   "metadata": {},
   "outputs": [],
   "source": [
    "# or like this:\n",
    "filter_robin = (df['YEAR_BUILT'] > 1900) & (df['YEAR_BUILT'] <= 2000)\n",
    "df[filter_robin]"
   ]
  },
  {
   "cell_type": "code",
   "execution_count": 52,
   "metadata": {},
   "outputs": [
    {
     "data": {
      "text/html": [
       "<div>\n",
       "<style scoped>\n",
       "    .dataframe tbody tr th:only-of-type {\n",
       "        vertical-align: middle;\n",
       "    }\n",
       "\n",
       "    .dataframe tbody tr th {\n",
       "        vertical-align: top;\n",
       "    }\n",
       "\n",
       "    .dataframe thead th {\n",
       "        text-align: right;\n",
       "    }\n",
       "</style>\n",
       "<table border=\"1\" class=\"dataframe\">\n",
       "  <thead>\n",
       "    <tr style=\"text-align: right;\">\n",
       "      <th></th>\n",
       "      <th>YEAR_BUILT</th>\n",
       "      <th>PID</th>\n",
       "    </tr>\n",
       "  </thead>\n",
       "  <tbody>\n",
       "    <tr>\n",
       "      <th>7</th>\n",
       "      <td>1901.0</td>\n",
       "      <td>303</td>\n",
       "    </tr>\n",
       "    <tr>\n",
       "      <th>8</th>\n",
       "      <td>1902.0</td>\n",
       "      <td>15</td>\n",
       "    </tr>\n",
       "    <tr>\n",
       "      <th>9</th>\n",
       "      <td>1903.0</td>\n",
       "      <td>23</td>\n",
       "    </tr>\n",
       "    <tr>\n",
       "      <th>10</th>\n",
       "      <td>1904.0</td>\n",
       "      <td>67</td>\n",
       "    </tr>\n",
       "    <tr>\n",
       "      <th>11</th>\n",
       "      <td>1905.0</td>\n",
       "      <td>469</td>\n",
       "    </tr>\n",
       "    <tr>\n",
       "      <th>...</th>\n",
       "      <td>...</td>\n",
       "      <td>...</td>\n",
       "    </tr>\n",
       "    <tr>\n",
       "      <th>102</th>\n",
       "      <td>1996.0</td>\n",
       "      <td>4107</td>\n",
       "    </tr>\n",
       "    <tr>\n",
       "      <th>103</th>\n",
       "      <td>1997.0</td>\n",
       "      <td>4788</td>\n",
       "    </tr>\n",
       "    <tr>\n",
       "      <th>104</th>\n",
       "      <td>1998.0</td>\n",
       "      <td>4790</td>\n",
       "    </tr>\n",
       "    <tr>\n",
       "      <th>105</th>\n",
       "      <td>1999.0</td>\n",
       "      <td>4867</td>\n",
       "    </tr>\n",
       "    <tr>\n",
       "      <th>106</th>\n",
       "      <td>2000.0</td>\n",
       "      <td>4046</td>\n",
       "    </tr>\n",
       "  </tbody>\n",
       "</table>\n",
       "<p>100 rows × 2 columns</p>\n",
       "</div>"
      ],
      "text/plain": [
       "     YEAR_BUILT   PID\n",
       "7        1901.0   303\n",
       "8        1902.0    15\n",
       "9        1903.0    23\n",
       "10       1904.0    67\n",
       "11       1905.0   469\n",
       "..          ...   ...\n",
       "102      1996.0  4107\n",
       "103      1997.0  4788\n",
       "104      1998.0  4790\n",
       "105      1999.0  4867\n",
       "106      2000.0  4046\n",
       "\n",
       "[100 rows x 2 columns]"
      ]
     },
     "execution_count": 52,
     "metadata": {},
     "output_type": "execute_result"
    }
   ],
   "source": [
    "df"
   ]
  },
  {
   "cell_type": "code",
   "execution_count": 76,
   "metadata": {
    "scrolled": true
   },
   "outputs": [
    {
     "data": {
      "image/png": "[encoded data removed]",
      "text/plain": [
       "<Figure size 1224x432 with 1 Axes>"
      ]
     },
     "metadata": {
      "needs_background": "light"
     },
     "output_type": "display_data"
    },
    {
     "data": {
      "text/plain": [
       "<Figure size 432x288 with 0 Axes>"
      ]
     },
     "metadata": {},
     "output_type": "display_data"
    }
   ],
   "source": [
    "plt.figure(figsize=(17,6))\n",
    "x = df.YEAR_BUILT\n",
    "y = df.NO_OF_PROPS\n",
    "plt.plot(x, y, 'dodgerblue', \n",
    "         label='Number of props built (LEGEND)',\n",
    "        linewidth=2)\n",
    "plt.title('Houses built between 1900 and 2000', fontsize=20)\n",
    "plt.xlabel('YEAR', fontsize=16)\n",
    "plt.ylabel('Number of properties built', fontsize=16)\n",
    "plt.legend()\n",
    "plt.savefig('line_plot_props_built_4.png', dpi = 400, quality=100)\n",
    "plt.show()\n",
    "plt.clf()"
   ]
  },
  {
   "cell_type": "code",
   "execution_count": 68,
   "metadata": {},
   "outputs": [
    {
     "data": {
      "text/plain": [
       "\"\\nplt.plot(x, y, 'dodgerblue', \\n         label='Number of props built',\\n        linewidth=2, xlabel='test Kevin')\\n\""
      ]
     },
     "execution_count": 68,
     "metadata": {},
     "output_type": "execute_result"
    }
   ],
   "source": [
    "# doesntwork:\n",
    "'''\n",
    "plt.plot(x, y, 'dodgerblue', \n",
    "         label='Number of props built',\n",
    "        linewidth=2, xlabel='test Kevin')\n",
    "'''"
   ]
  },
  {
   "cell_type": "code",
   "execution_count": 59,
   "metadata": {},
   "outputs": [
    {
     "data": {
      "text/plain": [
       "43.18"
      ]
     },
     "execution_count": 59,
     "metadata": {},
     "output_type": "execute_result"
    }
   ],
   "source": [
    "17 * 2.54"
   ]
  },
  {
   "cell_type": "code",
   "execution_count": 60,
   "metadata": {},
   "outputs": [
    {
     "data": {
      "text/plain": [
       "15.24"
      ]
     },
     "execution_count": 60,
     "metadata": {},
     "output_type": "execute_result"
    }
   ],
   "source": [
    "6*2.54"
   ]
  },
  {
   "cell_type": "code",
   "execution_count": 77,
   "metadata": {},
   "outputs": [
    {
     "data": {
      "image/png": "[encoded data removed]",
      "text/plain": [
       "<Figure size 1224x432 with 1 Axes>"
      ]
     },
     "metadata": {
      "needs_background": "light"
     },
     "output_type": "display_data"
    },
    {
     "data": {
      "text/plain": [
       "<Figure size 432x288 with 0 Axes>"
      ]
     },
     "metadata": {},
     "output_type": "display_data"
    }
   ],
   "source": [
    "plt.figure(figsize=(17,6))\n",
    "x = df.YEAR_BUILT\n",
    "y = df.NO_OF_PROPS\n",
    "plt.plot(x, y, 'dodgerblue', \n",
    "         label='Number of props built (LEGEND)',\n",
    "        linewidth=2)\n",
    "plt.title('Houses built between 1900 and 2000', fontsize=20)\n",
    "plt.xlabel('YEAR', fontsize=16)\n",
    "plt.ylabel('Number of properties built', fontsize=16)\n",
    "plt.legend()\n",
    "plt.savefig('line_plot_props_built_5_SVG.svg', dpi = 400, quality=100)\n",
    "plt.show()\n",
    "plt.clf()"
   ]
  },
  {
   "cell_type": "code",
   "execution_count": 84,
   "metadata": {},
   "outputs": [
    {
     "data": {
      "image/png": "[encoded data removed]",
      "text/plain": [
       "<Figure size 1224x432 with 1 Axes>"
      ]
     },
     "metadata": {
      "needs_background": "light"
     },
     "output_type": "display_data"
    },
    {
     "data": {
      "text/plain": [
       "<Figure size 432x288 with 0 Axes>"
      ]
     },
     "metadata": {},
     "output_type": "display_data"
    }
   ],
   "source": [
    "plt.figure(figsize=(17,6))\n",
    "plt.bar(x,y, label='props', color = 'rebeccapurple')\n",
    "plt.title('Houses built between 1900 and 2000', fontsize=20)\n",
    "plt.xlabel('YEAR', fontsize=16)\n",
    "plt.ylabel('Number of properties built', fontsize=16)\n",
    "plt.legend()\n",
    "#plt.grid(True)\n",
    "plt.grid(axis='y')\n",
    "plt.savefig('bar_plot_props_built.png', dpi = 400, quality=100)\n",
    "plt.show()\n",
    "plt.clf()\n",
    "\n"
   ]
  },
  {
   "cell_type": "code",
   "execution_count": 102,
   "metadata": {},
   "outputs": [
    {
     "data": {
      "image/png": "[encoded data removed]",
      "text/plain": [
       "<Figure size 1224x432 with 1 Axes>"
      ]
     },
     "metadata": {
      "needs_background": "light"
     },
     "output_type": "display_data"
    }
   ],
   "source": [
    "plt.figure(figsize=(17,6))\n",
    "plt.hist(df.NO_OF_PROPS,\n",
    "        bins=15,\n",
    "        histtype='bar',\n",
    "        color='red',\n",
    "        alpha = 0.2)\n",
    "plt.grid(axis='y')"
   ]
  },
  {
   "cell_type": "code",
   "execution_count": 88,
   "metadata": {},
   "outputs": [
    {
     "data": {
      "text/plain": [
       "count     100.000000\n",
       "mean     1414.960000\n",
       "std      1353.257618\n",
       "min        15.000000\n",
       "25%       556.250000\n",
       "50%       928.000000\n",
       "75%      1757.250000\n",
       "max      6292.000000\n",
       "Name: NO_OF_PROPS, dtype: float64"
      ]
     },
     "execution_count": 88,
     "metadata": {},
     "output_type": "execute_result"
    }
   ],
   "source": [
    "df.NO_OF_PROPS.describe()"
   ]
  },
  {
   "cell_type": "code",
   "execution_count": 103,
   "metadata": {},
   "outputs": [
    {
     "data": {
      "text/plain": [
       "Index(['YEAR_BUILT', 'NO_OF_PROPS'], dtype='object')"
      ]
     },
     "execution_count": 103,
     "metadata": {},
     "output_type": "execute_result"
    }
   ],
   "source": [
    "df.columns"
   ]
  },
  {
   "cell_type": "code",
   "execution_count": 118,
   "metadata": {},
   "outputs": [],
   "source": [
    "# back to our backup\n",
    "df = original.copy()"
   ]
  },
  {
   "cell_type": "code",
   "execution_count": 119,
   "metadata": {},
   "outputs": [
    {
     "data": {
      "text/plain": [
       "Index(['PID', 'LEGAL_TYPE', 'FOLIO', 'LAND_COORDINATE', 'ZONE_NAME',\n",
       "       'ZONE_CATEGORY', 'LOT', 'BLOCK', 'PLAN', 'DISTRICT_LOT',\n",
       "       'FROM_CIVIC_NUMBER', 'TO_CIVIC_NUMBER', 'STREET_NAME',\n",
       "       'PROPERTY_POSTAL_CODE', 'NARRATIVE_LEGAL_LINE1',\n",
       "       'NARRATIVE_LEGAL_LINE2', 'NARRATIVE_LEGAL_LINE3',\n",
       "       'NARRATIVE_LEGAL_LINE4', 'NARRATIVE_LEGAL_LINE5', 'CURRENT_LAND_VALUE',\n",
       "       'CURRENT_IMPROVEMENT_VALUE', 'TAX_ASSESSMENT_YEAR',\n",
       "       'PREVIOUS_LAND_VALUE', 'PREVIOUS_IMPROVEMENT_VALUE', 'YEAR_BUILT',\n",
       "       'BIG_IMPROVEMENT_YEAR', 'TAX_LEVY', 'NEIGHBOURHOOD_CODE'],\n",
       "      dtype='object')"
      ]
     },
     "execution_count": 119,
     "metadata": {},
     "output_type": "execute_result"
    }
   ],
   "source": [
    "df.columns"
   ]
  },
  {
   "cell_type": "code",
   "execution_count": 120,
   "metadata": {},
   "outputs": [
    {
     "data": {
      "text/plain": [
       "array(['Commercial', 'Comprehensive Development', 'Light Industrial',\n",
       "       'Multiple Family Dwelling', 'One Family Dwelling',\n",
       "       'Two Family Dwelling', 'Limited Agricultural', nan, 'Industrial',\n",
       "       'Historic Area'], dtype=object)"
      ]
     },
     "execution_count": 120,
     "metadata": {},
     "output_type": "execute_result"
    }
   ],
   "source": [
    "df.ZONE_CATEGORY.unique()"
   ]
  },
  {
   "cell_type": "code",
   "execution_count": 121,
   "metadata": {},
   "outputs": [
    {
     "name": "stdout",
     "output_type": "stream",
     "text": [
      "Commercial\n",
      "Comprehensive Development\n",
      "Light Industrial\n",
      "Multiple Family Dwelling\n",
      "One Family Dwelling\n",
      "Two Family Dwelling\n",
      "Limited Agricultural\n",
      "nan\n",
      "Industrial\n",
      "Historic Area\n"
     ]
    }
   ],
   "source": [
    "for e in df.ZONE_CATEGORY.unique():\n",
    "    print(e)"
   ]
  },
  {
   "cell_type": "code",
   "execution_count": 122,
   "metadata": {},
   "outputs": [],
   "source": [
    "df = df[ df.ZONE_CATEGORY.notnull() ]"
   ]
  },
  {
   "cell_type": "code",
   "execution_count": 123,
   "metadata": {},
   "outputs": [
    {
     "data": {
      "text/plain": [
       "(205346, 28)"
      ]
     },
     "execution_count": 123,
     "metadata": {},
     "output_type": "execute_result"
    }
   ],
   "source": [
    "original.shape"
   ]
  },
  {
   "cell_type": "code",
   "execution_count": 124,
   "metadata": {},
   "outputs": [
    {
     "data": {
      "text/plain": [
       "(203502, 28)"
      ]
     },
     "execution_count": 124,
     "metadata": {},
     "output_type": "execute_result"
    }
   ],
   "source": [
    "df.shape"
   ]
  },
  {
   "cell_type": "code",
   "execution_count": 125,
   "metadata": {},
   "outputs": [],
   "source": [
    "df = df.groupby('ZONE_CATEGORY', as_index=False)['PID'].count()"
   ]
  },
  {
   "cell_type": "code",
   "execution_count": 126,
   "metadata": {},
   "outputs": [],
   "source": [
    "df = df.rename(columns={'PID':'NO_OF_PROPS'})"
   ]
  },
  {
   "cell_type": "code",
   "execution_count": 127,
   "metadata": {},
   "outputs": [
    {
     "data": {
      "text/html": [
       "<div>\n",
       "<style scoped>\n",
       "    .dataframe tbody tr th:only-of-type {\n",
       "        vertical-align: middle;\n",
       "    }\n",
       "\n",
       "    .dataframe tbody tr th {\n",
       "        vertical-align: top;\n",
       "    }\n",
       "\n",
       "    .dataframe thead th {\n",
       "        text-align: right;\n",
       "    }\n",
       "</style>\n",
       "<table border=\"1\" class=\"dataframe\">\n",
       "  <thead>\n",
       "    <tr style=\"text-align: right;\">\n",
       "      <th></th>\n",
       "      <th>ZONE_CATEGORY</th>\n",
       "      <th>NO_OF_PROPS</th>\n",
       "    </tr>\n",
       "  </thead>\n",
       "  <tbody>\n",
       "    <tr>\n",
       "      <th>0</th>\n",
       "      <td>Commercial</td>\n",
       "      <td>17869</td>\n",
       "    </tr>\n",
       "    <tr>\n",
       "      <th>1</th>\n",
       "      <td>Comprehensive Development</td>\n",
       "      <td>67550</td>\n",
       "    </tr>\n",
       "    <tr>\n",
       "      <th>2</th>\n",
       "      <td>Historic Area</td>\n",
       "      <td>2457</td>\n",
       "    </tr>\n",
       "    <tr>\n",
       "      <th>3</th>\n",
       "      <td>Industrial</td>\n",
       "      <td>1239</td>\n",
       "    </tr>\n",
       "    <tr>\n",
       "      <th>4</th>\n",
       "      <td>Light Industrial</td>\n",
       "      <td>3297</td>\n",
       "    </tr>\n",
       "    <tr>\n",
       "      <th>5</th>\n",
       "      <td>Limited Agricultural</td>\n",
       "      <td>163</td>\n",
       "    </tr>\n",
       "    <tr>\n",
       "      <th>6</th>\n",
       "      <td>Multiple Family Dwelling</td>\n",
       "      <td>27305</td>\n",
       "    </tr>\n",
       "    <tr>\n",
       "      <th>7</th>\n",
       "      <td>One Family Dwelling</td>\n",
       "      <td>68344</td>\n",
       "    </tr>\n",
       "    <tr>\n",
       "      <th>8</th>\n",
       "      <td>Two Family Dwelling</td>\n",
       "      <td>14750</td>\n",
       "    </tr>\n",
       "  </tbody>\n",
       "</table>\n",
       "</div>"
      ],
      "text/plain": [
       "               ZONE_CATEGORY  NO_OF_PROPS\n",
       "0                 Commercial        17869\n",
       "1  Comprehensive Development        67550\n",
       "2              Historic Area         2457\n",
       "3                 Industrial         1239\n",
       "4           Light Industrial         3297\n",
       "5       Limited Agricultural          163\n",
       "6   Multiple Family Dwelling        27305\n",
       "7        One Family Dwelling        68344\n",
       "8        Two Family Dwelling        14750"
      ]
     },
     "execution_count": 127,
     "metadata": {},
     "output_type": "execute_result"
    }
   ],
   "source": [
    "df"
   ]
  },
  {
   "cell_type": "code",
   "execution_count": 128,
   "metadata": {},
   "outputs": [],
   "source": [
    "df['PERC_OF_PROP'] = df.NO_OF_PROPS / df.NO_OF_PROPS.sum()"
   ]
  },
  {
   "cell_type": "code",
   "execution_count": 129,
   "metadata": {},
   "outputs": [
    {
     "data": {
      "text/html": [
       "<div>\n",
       "<style scoped>\n",
       "    .dataframe tbody tr th:only-of-type {\n",
       "        vertical-align: middle;\n",
       "    }\n",
       "\n",
       "    .dataframe tbody tr th {\n",
       "        vertical-align: top;\n",
       "    }\n",
       "\n",
       "    .dataframe thead th {\n",
       "        text-align: right;\n",
       "    }\n",
       "</style>\n",
       "<table border=\"1\" class=\"dataframe\">\n",
       "  <thead>\n",
       "    <tr style=\"text-align: right;\">\n",
       "      <th></th>\n",
       "      <th>ZONE_CATEGORY</th>\n",
       "      <th>NO_OF_PROPS</th>\n",
       "      <th>PERC_OF_PROP</th>\n",
       "    </tr>\n",
       "  </thead>\n",
       "  <tbody>\n",
       "    <tr>\n",
       "      <th>0</th>\n",
       "      <td>Commercial</td>\n",
       "      <td>17869</td>\n",
       "      <td>0.088036</td>\n",
       "    </tr>\n",
       "    <tr>\n",
       "      <th>1</th>\n",
       "      <td>Comprehensive Development</td>\n",
       "      <td>67550</td>\n",
       "      <td>0.332801</td>\n",
       "    </tr>\n",
       "    <tr>\n",
       "      <th>2</th>\n",
       "      <td>Historic Area</td>\n",
       "      <td>2457</td>\n",
       "      <td>0.012105</td>\n",
       "    </tr>\n",
       "    <tr>\n",
       "      <th>3</th>\n",
       "      <td>Industrial</td>\n",
       "      <td>1239</td>\n",
       "      <td>0.006104</td>\n",
       "    </tr>\n",
       "    <tr>\n",
       "      <th>4</th>\n",
       "      <td>Light Industrial</td>\n",
       "      <td>3297</td>\n",
       "      <td>0.016243</td>\n",
       "    </tr>\n",
       "    <tr>\n",
       "      <th>5</th>\n",
       "      <td>Limited Agricultural</td>\n",
       "      <td>163</td>\n",
       "      <td>0.000803</td>\n",
       "    </tr>\n",
       "    <tr>\n",
       "      <th>6</th>\n",
       "      <td>Multiple Family Dwelling</td>\n",
       "      <td>27305</td>\n",
       "      <td>0.134525</td>\n",
       "    </tr>\n",
       "    <tr>\n",
       "      <th>7</th>\n",
       "      <td>One Family Dwelling</td>\n",
       "      <td>68344</td>\n",
       "      <td>0.336713</td>\n",
       "    </tr>\n",
       "    <tr>\n",
       "      <th>8</th>\n",
       "      <td>Two Family Dwelling</td>\n",
       "      <td>14750</td>\n",
       "      <td>0.072669</td>\n",
       "    </tr>\n",
       "  </tbody>\n",
       "</table>\n",
       "</div>"
      ],
      "text/plain": [
       "               ZONE_CATEGORY  NO_OF_PROPS  PERC_OF_PROP\n",
       "0                 Commercial        17869      0.088036\n",
       "1  Comprehensive Development        67550      0.332801\n",
       "2              Historic Area         2457      0.012105\n",
       "3                 Industrial         1239      0.006104\n",
       "4           Light Industrial         3297      0.016243\n",
       "5       Limited Agricultural          163      0.000803\n",
       "6   Multiple Family Dwelling        27305      0.134525\n",
       "7        One Family Dwelling        68344      0.336713\n",
       "8        Two Family Dwelling        14750      0.072669"
      ]
     },
     "execution_count": 129,
     "metadata": {},
     "output_type": "execute_result"
    }
   ],
   "source": [
    "df"
   ]
  },
  {
   "cell_type": "code",
   "execution_count": 131,
   "metadata": {},
   "outputs": [],
   "source": [
    "df['PERC_OF_PROP'] = df['PERC_OF_PROP'] * 100"
   ]
  },
  {
   "cell_type": "code",
   "execution_count": 133,
   "metadata": {},
   "outputs": [
    {
     "data": {
      "text/plain": [
       "0     880.359061\n",
       "1    3328.012455\n",
       "2     121.049987\n",
       "3      61.042301\n",
       "4     162.434598\n",
       "5       8.030585\n",
       "6    1345.246189\n",
       "7    3367.130766\n",
       "8     726.694059\n",
       "Name: PERC_OF_PROP, dtype: float64"
      ]
     },
     "execution_count": 133,
     "metadata": {},
     "output_type": "execute_result"
    }
   ],
   "source": [
    "# same\n",
    "df['PERC_OF_PROP'].multiply(100)"
   ]
  },
  {
   "cell_type": "code",
   "execution_count": 134,
   "metadata": {},
   "outputs": [
    {
     "data": {
      "text/html": [
       "<div>\n",
       "<style scoped>\n",
       "    .dataframe tbody tr th:only-of-type {\n",
       "        vertical-align: middle;\n",
       "    }\n",
       "\n",
       "    .dataframe tbody tr th {\n",
       "        vertical-align: top;\n",
       "    }\n",
       "\n",
       "    .dataframe thead th {\n",
       "        text-align: right;\n",
       "    }\n",
       "</style>\n",
       "<table border=\"1\" class=\"dataframe\">\n",
       "  <thead>\n",
       "    <tr style=\"text-align: right;\">\n",
       "      <th></th>\n",
       "      <th>ZONE_CATEGORY</th>\n",
       "      <th>NO_OF_PROPS</th>\n",
       "      <th>PERC_OF_PROP</th>\n",
       "    </tr>\n",
       "  </thead>\n",
       "  <tbody>\n",
       "    <tr>\n",
       "      <th>0</th>\n",
       "      <td>Commercial</td>\n",
       "      <td>17869</td>\n",
       "      <td>8.803591</td>\n",
       "    </tr>\n",
       "    <tr>\n",
       "      <th>1</th>\n",
       "      <td>Comprehensive Development</td>\n",
       "      <td>67550</td>\n",
       "      <td>33.280125</td>\n",
       "    </tr>\n",
       "    <tr>\n",
       "      <th>2</th>\n",
       "      <td>Historic Area</td>\n",
       "      <td>2457</td>\n",
       "      <td>1.210500</td>\n",
       "    </tr>\n",
       "    <tr>\n",
       "      <th>3</th>\n",
       "      <td>Industrial</td>\n",
       "      <td>1239</td>\n",
       "      <td>0.610423</td>\n",
       "    </tr>\n",
       "    <tr>\n",
       "      <th>4</th>\n",
       "      <td>Light Industrial</td>\n",
       "      <td>3297</td>\n",
       "      <td>1.624346</td>\n",
       "    </tr>\n",
       "    <tr>\n",
       "      <th>5</th>\n",
       "      <td>Limited Agricultural</td>\n",
       "      <td>163</td>\n",
       "      <td>0.080306</td>\n",
       "    </tr>\n",
       "    <tr>\n",
       "      <th>6</th>\n",
       "      <td>Multiple Family Dwelling</td>\n",
       "      <td>27305</td>\n",
       "      <td>13.452462</td>\n",
       "    </tr>\n",
       "    <tr>\n",
       "      <th>7</th>\n",
       "      <td>One Family Dwelling</td>\n",
       "      <td>68344</td>\n",
       "      <td>33.671308</td>\n",
       "    </tr>\n",
       "    <tr>\n",
       "      <th>8</th>\n",
       "      <td>Two Family Dwelling</td>\n",
       "      <td>14750</td>\n",
       "      <td>7.266941</td>\n",
       "    </tr>\n",
       "  </tbody>\n",
       "</table>\n",
       "</div>"
      ],
      "text/plain": [
       "               ZONE_CATEGORY  NO_OF_PROPS  PERC_OF_PROP\n",
       "0                 Commercial        17869      8.803591\n",
       "1  Comprehensive Development        67550     33.280125\n",
       "2              Historic Area         2457      1.210500\n",
       "3                 Industrial         1239      0.610423\n",
       "4           Light Industrial         3297      1.624346\n",
       "5       Limited Agricultural          163      0.080306\n",
       "6   Multiple Family Dwelling        27305     13.452462\n",
       "7        One Family Dwelling        68344     33.671308\n",
       "8        Two Family Dwelling        14750      7.266941"
      ]
     },
     "execution_count": 134,
     "metadata": {},
     "output_type": "execute_result"
    }
   ],
   "source": [
    "df"
   ]
  },
  {
   "cell_type": "code",
   "execution_count": 137,
   "metadata": {},
   "outputs": [
    {
     "data": {
      "text/html": [
       "<div>\n",
       "<style scoped>\n",
       "    .dataframe tbody tr th:only-of-type {\n",
       "        vertical-align: middle;\n",
       "    }\n",
       "\n",
       "    .dataframe tbody tr th {\n",
       "        vertical-align: top;\n",
       "    }\n",
       "\n",
       "    .dataframe thead th {\n",
       "        text-align: right;\n",
       "    }\n",
       "</style>\n",
       "<table border=\"1\" class=\"dataframe\">\n",
       "  <thead>\n",
       "    <tr style=\"text-align: right;\">\n",
       "      <th></th>\n",
       "      <th>ZONE_CATEGORY</th>\n",
       "      <th>NO_OF_PROPS</th>\n",
       "      <th>PERC_OF_PROP</th>\n",
       "    </tr>\n",
       "  </thead>\n",
       "  <tbody>\n",
       "    <tr>\n",
       "      <th>7</th>\n",
       "      <td>One Family Dwelling</td>\n",
       "      <td>68344</td>\n",
       "      <td>33.671308</td>\n",
       "    </tr>\n",
       "    <tr>\n",
       "      <th>1</th>\n",
       "      <td>Comprehensive Development</td>\n",
       "      <td>67550</td>\n",
       "      <td>33.280125</td>\n",
       "    </tr>\n",
       "    <tr>\n",
       "      <th>6</th>\n",
       "      <td>Multiple Family Dwelling</td>\n",
       "      <td>27305</td>\n",
       "      <td>13.452462</td>\n",
       "    </tr>\n",
       "    <tr>\n",
       "      <th>0</th>\n",
       "      <td>Commercial</td>\n",
       "      <td>17869</td>\n",
       "      <td>8.803591</td>\n",
       "    </tr>\n",
       "    <tr>\n",
       "      <th>8</th>\n",
       "      <td>Two Family Dwelling</td>\n",
       "      <td>14750</td>\n",
       "      <td>7.266941</td>\n",
       "    </tr>\n",
       "  </tbody>\n",
       "</table>\n",
       "</div>"
      ],
      "text/plain": [
       "               ZONE_CATEGORY  NO_OF_PROPS  PERC_OF_PROP\n",
       "7        One Family Dwelling        68344     33.671308\n",
       "1  Comprehensive Development        67550     33.280125\n",
       "6   Multiple Family Dwelling        27305     13.452462\n",
       "0                 Commercial        17869      8.803591\n",
       "8        Two Family Dwelling        14750      7.266941"
      ]
     },
     "execution_count": 137,
     "metadata": {},
     "output_type": "execute_result"
    }
   ],
   "source": [
    "df_top5 = df.nlargest(columns='PERC_OF_PROP', n=5)\n",
    "df_top5"
   ]
  },
  {
   "cell_type": "code",
   "execution_count": 139,
   "metadata": {},
   "outputs": [
    {
     "data": {
      "text/plain": [
       "7    33.671308\n",
       "1    33.280125\n",
       "6    13.452462\n",
       "0     8.803591\n",
       "8     7.266941\n",
       "Name: PERC_OF_PROP, dtype: float64"
      ]
     },
     "execution_count": 139,
     "metadata": {},
     "output_type": "execute_result"
    }
   ],
   "source": [
    "percentages = df_top5.PERC_OF_PROP\n",
    "percentages"
   ]
  },
  {
   "cell_type": "code",
   "execution_count": 140,
   "metadata": {},
   "outputs": [
    {
     "data": {
      "text/plain": [
       "7          One Family Dwelling\n",
       "1    Comprehensive Development\n",
       "6     Multiple Family Dwelling\n",
       "0                   Commercial\n",
       "8          Two Family Dwelling\n",
       "Name: ZONE_CATEGORY, dtype: object"
      ]
     },
     "execution_count": 140,
     "metadata": {},
     "output_type": "execute_result"
    }
   ],
   "source": [
    "cats        = df_top5.ZONE_CATEGORY\n",
    "cats\n"
   ]
  },
  {
   "cell_type": "code",
   "execution_count": 145,
   "metadata": {},
   "outputs": [],
   "source": [
    "cols = ['rebeccapurple', 'k', 'olive', 'm', 'y']\n",
    "#cols = ['purple', 'red', 'green', 'orange', 'dodgerblue']\n",
    "cols = ['rebeccapurple', 'k', 'olive', 'm', 'y']"
   ]
  },
  {
   "cell_type": "code",
   "execution_count": 174,
   "metadata": {},
   "outputs": [
    {
     "data": {
      "image/png": "[encoded data removed]",
      "text/plain": [
       "<Figure size 1224x432 with 1 Axes>"
      ]
     },
     "metadata": {},
     "output_type": "display_data"
    },
    {
     "data": {
      "text/plain": [
       "<Figure size 432x288 with 0 Axes>"
      ]
     },
     "metadata": {},
     "output_type": "display_data"
    }
   ],
   "source": [
    "cols = ['gold', 'mediumturquoise', 'darkorange', 'lightgreen']\n",
    "\n",
    "plt.figure(figsize=(17,6))\n",
    "#color.palette = viridis\n",
    "#plt.viridis()\n",
    "plt.pie(percentages,\n",
    "       labels=cats,\n",
    "       startangle=90,\n",
    "        colors=cols,\n",
    "       explode=(0.04,0,0,0,0),\n",
    "       autopct = '%1.2f%%')\n",
    "plt.title('Top 5 zone categaries with highest percentage in the total of nr of properties')\n",
    "plt.show()\n",
    "plt.clf()"
   ]
  },
  {
   "cell_type": "code",
   "execution_count": 180,
   "metadata": {},
   "outputs": [
    {
     "data": {
      "text/plain": [
       "<matplotlib.collections.PathCollection at 0x11ff24390>"
      ]
     },
     "execution_count": 180,
     "metadata": {},
     "output_type": "execute_result"
    },
    {
     "data": {
      "image/png": "[encoded data removed]",
      "text/plain": [
       "<Figure size 1224x432 with 1 Axes>"
      ]
     },
     "metadata": {
      "needs_background": "light"
     },
     "output_type": "display_data"
    }
   ],
   "source": [
    "plt.figure(figsize=(17,6))\n",
    "plt.scatter(x,y, label='No of props built', s = 200,\n",
    "            color='red',edgecolor='black', marker='>')"
   ]
  },
  {
   "cell_type": "code",
   "execution_count": 182,
   "metadata": {},
   "outputs": [
    {
     "data": {
      "text/plain": [
       "<matplotlib.collections.PathCollection at 0x11d755c90>"
      ]
     },
     "execution_count": 182,
     "metadata": {},
     "output_type": "execute_result"
    },
    {
     "data": {
      "image/png": "[encoded data removed]",
      "text/plain": [
       "<Figure size 1224x432 with 1 Axes>"
      ]
     },
     "metadata": {
      "needs_background": "light"
     },
     "output_type": "display_data"
    }
   ],
   "source": [
    "plt.figure(figsize=(17,6))\n",
    "plt.scatter(x,y, label='No of props built', s = 1500,\n",
    "            color='red',edgecolor='black', marker='*')"
   ]
  },
  {
   "cell_type": "code",
   "execution_count": 188,
   "metadata": {},
   "outputs": [
    {
     "data": {
      "text/plain": [
       "<matplotlib.collections.PathCollection at 0x124699e50>"
      ]
     },
     "execution_count": 188,
     "metadata": {},
     "output_type": "execute_result"
    },
    {
     "data": {
      "image/png": "[encoded data removed]",
      "text/plain": [
       "<Figure size 1224x432 with 1 Axes>"
      ]
     },
     "metadata": {
      "needs_background": "light"
     },
     "output_type": "display_data"
    }
   ],
   "source": [
    "plt.figure(figsize=(17,6))\n",
    "plt.scatter(x,y, label='No of props built', s = 150,\n",
    "            color='dodgerblue',edgecolor='black', \n",
    "            alpha=0.8,\n",
    "            marker=6)"
   ]
  },
  {
   "cell_type": "code",
   "execution_count": null,
   "metadata": {},
   "outputs": [],
   "source": []
  }
 ],
 "metadata": {
  "kernelspec": {
   "display_name": "Python 3",
   "language": "python",
   "name": "python3"
  },
  "language_info": {
   "codemirror_mode": {
    "name": "ipython",
    "version": 3
   },
   "file_extension": ".py",
   "mimetype": "text/x-python",
   "name": "python",
   "nbconvert_exporter": "python",
   "pygments_lexer": "ipython3",
   "version": "3.7.5"
  }
 },
 "nbformat": 4,
 "nbformat_minor": 2
}
